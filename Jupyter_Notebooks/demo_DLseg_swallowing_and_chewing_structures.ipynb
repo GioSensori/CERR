{
  "nbformat": 4,
  "nbformat_minor": 0,
  "metadata": {
    "colab": {
      "name": "demo_CT_SwallowingAndChewing_DeepLabV3.ipynb",
      "provenance": [],
      "collapsed_sections": [],
      "toc_visible": true,
      "include_colab_link": true
    },
    "kernelspec": {
      "name": "python3",
      "display_name": "Python 3"
    },
    "accelerator": "GPU",
    "widgets": {
      "application/vnd.jupyter.widget-state+json": {
        "3b3a6fde5c154a8eb82d42216be8b3df": {
          "model_module": "@jupyter-widgets/controls",
          "model_name": "IntSliderModel",
          "state": {
            "_view_name": "IntSliderView",
            "style": "IPY_MODEL_a0a0be867b96440698ade165927e50da",
            "_dom_classes": [],
            "description": "",
            "step": 1,
            "_model_name": "IntSliderModel",
            "orientation": "horizontal",
            "max": 79,
            "_view_module": "@jupyter-widgets/controls",
            "_model_module_version": "1.5.0",
            "value": 38,
            "_view_count": null,
            "disabled": false,
            "_view_module_version": "1.5.0",
            "min": 1,
            "continuous_update": true,
            "readout_format": "d",
            "description_tooltip": null,
            "readout": true,
            "_model_module": "@jupyter-widgets/controls",
            "layout": "IPY_MODEL_db5d803d636d49c9a5921781119f4c18"
          }
        },
        "a0a0be867b96440698ade165927e50da": {
          "model_module": "@jupyter-widgets/controls",
          "model_name": "SliderStyleModel",
          "state": {
            "_view_name": "StyleView",
            "handle_color": null,
            "_model_name": "SliderStyleModel",
            "description_width": "",
            "_view_module": "@jupyter-widgets/base",
            "_model_module_version": "1.5.0",
            "_view_count": null,
            "_view_module_version": "1.2.0",
            "_model_module": "@jupyter-widgets/controls"
          }
        },
        "db5d803d636d49c9a5921781119f4c18": {
          "model_module": "@jupyter-widgets/base",
          "model_name": "LayoutModel",
          "state": {
            "_view_name": "LayoutView",
            "grid_template_rows": null,
            "right": null,
            "justify_content": null,
            "_view_module": "@jupyter-widgets/base",
            "overflow": null,
            "_model_module_version": "1.2.0",
            "_view_count": null,
            "flex_flow": null,
            "width": null,
            "min_width": null,
            "border": null,
            "align_items": null,
            "bottom": null,
            "_model_module": "@jupyter-widgets/base",
            "top": null,
            "grid_column": null,
            "overflow_y": null,
            "overflow_x": null,
            "grid_auto_flow": null,
            "grid_area": null,
            "grid_template_columns": null,
            "flex": null,
            "_model_name": "LayoutModel",
            "justify_items": null,
            "grid_row": null,
            "max_height": null,
            "align_content": null,
            "visibility": null,
            "align_self": null,
            "height": null,
            "min_height": null,
            "padding": null,
            "grid_auto_rows": null,
            "grid_gap": null,
            "max_width": null,
            "order": null,
            "_view_module_version": "1.2.0",
            "grid_template_areas": null,
            "object_position": null,
            "object_fit": null,
            "grid_auto_columns": null,
            "margin": null,
            "display": null,
            "left": null
          }
        },
        "14eae6cb8beb4e9593a9a503d3af033c": {
          "model_module": "@jupyter-widgets/output",
          "model_name": "OutputModel",
          "state": {
            "_view_name": "OutputView",
            "msg_id": "",
            "_dom_classes": [],
            "_model_name": "OutputModel",
            "outputs": [
              {
                "output_type": "stream",
                "metadata": {
                  "tags": []
                },
                "text": "Slice 38\n",
                "stream": "stdout"
              },
              {
                "output_type": "display_data",
                "metadata": {
                  "tags": [],
                  "needs_background": "light"
                },
                "image/png": "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\n",
                "text/plain": "<Figure size 432x288 with 1 Axes>"
              }
            ],
            "_view_module": "@jupyter-widgets/output",
            "_model_module_version": "1.0.0",
            "_view_count": null,
            "_view_module_version": "1.0.0",
            "layout": "IPY_MODEL_38f25854c1774d548c712732bd140378",
            "_model_module": "@jupyter-widgets/output"
          }
        },
        "38f25854c1774d548c712732bd140378": {
          "model_module": "@jupyter-widgets/base",
          "model_name": "LayoutModel",
          "state": {
            "_view_name": "LayoutView",
            "grid_template_rows": null,
            "right": null,
            "justify_content": null,
            "_view_module": "@jupyter-widgets/base",
            "overflow": null,
            "_model_module_version": "1.2.0",
            "_view_count": null,
            "flex_flow": null,
            "width": null,
            "min_width": null,
            "border": null,
            "align_items": null,
            "bottom": null,
            "_model_module": "@jupyter-widgets/base",
            "top": null,
            "grid_column": null,
            "overflow_y": null,
            "overflow_x": null,
            "grid_auto_flow": null,
            "grid_area": null,
            "grid_template_columns": null,
            "flex": null,
            "_model_name": "LayoutModel",
            "justify_items": null,
            "grid_row": null,
            "max_height": null,
            "align_content": null,
            "visibility": null,
            "align_self": null,
            "height": null,
            "min_height": null,
            "padding": null,
            "grid_auto_rows": null,
            "grid_gap": null,
            "max_width": null,
            "order": null,
            "_view_module_version": "1.2.0",
            "grid_template_areas": null,
            "object_position": null,
            "object_fit": null,
            "grid_auto_columns": null,
            "margin": null,
            "display": null,
            "left": null
          }
        }
      }
    }
  },
  "cells": [
    {
      "cell_type": "markdown",
      "metadata": {
        "id": "view-in-github",
        "colab_type": "text"
      },
      "source": [
        "<a href=\"https://colab.research.google.com/github/cerr/CERR/blob/octave_dev/Jupyter_Notebooks/demo_DLseg_swallowing_and_chewing_structures.ipynb\" target=\"_parent\"><img src=\"https://colab.research.google.com/assets/colab-badge.svg\" alt=\"Open In Colab\"/></a>"
      ]
    },
    {
      "cell_type": "markdown",
      "metadata": {
        "colab_type": "text",
        "id": "8QAWNjizy_3O"
      },
      "source": [
        "#  Deep learning-based segmentation of Swallowing and Chewing structures in H&N CT scans\n",
        "\n",
        "This notebook demonstrates the application of Convolution Neural Network based model to segment the following swallowing and chewing structures in H&N CT scans. Model details are provided in [bioRxiv article](https://www.biorxiv.org/content/10.1101/772178v1) by Iyer A *et al*.\n",
        "\n",
        "### Output structures:\n",
        "\n",
        "*   Masseters (left, right)\n",
        "*   Medial pterygoid (left, right)\n",
        "*   Larynx\n",
        "*   Constrictor muscle\n",
        "\n",
        "---\n"
      ]
    },
    {
      "cell_type": "markdown",
      "metadata": {
        "id": "GM7UIQv5zZvi",
        "colab_type": "text"
      },
      "source": [
        "### Install Octave 5.2"
      ]
    },
    {
      "cell_type": "code",
      "metadata": {
        "id": "AUw5jMJLnAV7",
        "colab_type": "code",
        "colab": {}
      },
      "source": [
        "%%capture\n",
        "! apt-get update\n",
        "! apt-get install gcc g++ gfortran make libblas-dev liblapack-dev libpcre3-dev libarpack2-dev libcurl4-gnutls-dev epstool libfftw3-dev transfig libfltk1.3-dev libfontconfig1-dev libfreetype6-dev libgl2ps-dev libglpk-dev libreadline-dev gnuplot-x11 libgraphicsmagick++1-dev libhdf5-serial-dev openjdk-8-jdk libsndfile1-dev llvm-dev lpr texinfo libgl1-mesa-dev libosmesa6-dev pstoedit portaudio19-dev libqhull-dev libqrupdate-dev libqscintilla2-dev libsuitesparse-dev texlive texlive-generic-recommended libxft-dev zlib1g-dev autoconf automake bison flex gperf gzip icoutils librsvg2-bin libtool perl rsync tar qtbase5-dev qttools5-dev qttools5-dev-tools libqscintilla2-qt5-dev wget git libsundials-dev gnuplot x11-apps\n",
        "! pip install octave_kernel\n",
        "! pip install oct2py"
      ],
      "execution_count": null,
      "outputs": []
    },
    {
      "cell_type": "code",
      "metadata": {
        "id": "uUomVWLLwMqQ",
        "colab_type": "code",
        "colab": {}
      },
      "source": [
        "%%capture\n",
        "%%bash\n",
        "LOCATION=$(curl -s https://api.github.com/repos/cerr/octave-colab/releases/latest \\\n",
        "| grep \"tag_name\" \\\n",
        "| awk '{print \"https://github.com/cerr/octave-colab/archive/\" substr($2, 2, length($2)-3) \".zip\"}') \\\n",
        "; curl -L -o octavecolab.zip $LOCATION\n",
        "\n",
        "unzip octavecolab.zip -d octavecolab\n",
        "releaseDir=$(ls octavecolab)\n",
        "tar xzvf \"octavecolab/${releaseDir}/octavecolab.tar.gz\""
      ],
      "execution_count": null,
      "outputs": []
    },
    {
      "cell_type": "code",
      "metadata": {
        "id": "V_TtP-29nPYb",
        "colab_type": "code",
        "colab": {}
      },
      "source": [
        "import os\n",
        "os.environ['OCTAVE_EXECUTABLE'] = '/content/octavecolab/bin/octave-cli'\n",
        "os.environ['PATH'] = '/content/octavecolab/bin:' + os.environ['PATH']"
      ],
      "execution_count": null,
      "outputs": []
    },
    {
      "cell_type": "code",
      "metadata": {
        "id": "YV0UT7m8vIw3",
        "colab_type": "code",
        "colab": {}
      },
      "source": [
        "%%capture\n",
        "%load_ext oct2py.ipython\n",
        "\n",
        "!apt install octave liboctave-dev\n",
        "!wget https://nchc.dl.sourceforge.net/project/octave/Octave%20Forge%20Packages/Individual%20Package%20Releases/image-2.12.0.tar.gz\n",
        "!wget https://nchc.dl.sourceforge.net/project/octave/Octave%20Forge%20Packages/Individual%20Package%20Releases/io-2.6.1.tar.gz\n",
        "!wget https://nchc.dl.sourceforge.net/project/octave/Octave%20Forge%20Packages/Individual%20Package%20Releases/statistics-1.4.2.tar.gz\n",
        "\n",
        "!octave --eval \"pkg install image-2.12.0.tar.gz\"\n",
        "!octave --eval \"pkg install io-2.6.1.tar.gz\"\n",
        "!octave --eval \"pkg install statistics-1.4.2.tar.gz\""
      ],
      "execution_count": null,
      "outputs": []
    },
    {
      "cell_type": "markdown",
      "metadata": {
        "id": "sREbTvIKOSSr",
        "colab_type": "text"
      },
      "source": [
        "### Download the pretrained model"
      ]
    },
    {
      "cell_type": "code",
      "metadata": {
        "id": "fvJUPw8xUKFM",
        "colab_type": "code",
        "colab": {}
      },
      "source": [
        "%%capture\n",
        "%%bash\n",
        "LOCATION=$(curl -s https://api.github.com/repos/cerr/CT_SwallowingAndChewing_DeepLabV3/releases/latest \\\n",
        "| grep \"tag_name\" \\\n",
        "| awk '{print \"https://github.com/cerr/CT_SwallowingAndChewing_DeepLabV3/archive/\" substr($2, 2, length($2)-3) \".zip\"}') \\\n",
        "; curl -L -o CT_swallow_chew.zip $LOCATION\n",
        "\n",
        "unzip CT_swallow_chew.zip -d CT_SwallowingAndChewing_DeepLabV3\n",
        "releaseDir=$(ls CT_SwallowingAndChewing_DeepLabV3)\n",
        "\n",
        "mv CT_SwallowingAndChewing_DeepLabV3/*/* CT_SwallowingAndChewing_DeepLabV3/\n",
        "rm CT_swallow_chew.zip\n",
        "rm -r \"CT_SwallowingAndChewing_DeepLabV3/$releaseDir\""
      ],
      "execution_count": null,
      "outputs": []
    },
    {
      "cell_type": "markdown",
      "metadata": {
        "id": "CvUbr1J9OWyY",
        "colab_type": "text"
      },
      "source": [
        "### Download CERR"
      ]
    },
    {
      "cell_type": "code",
      "metadata": {
        "id": "_xIfL4HDzll7",
        "colab_type": "code",
        "colab": {}
      },
      "source": [
        "%%capture\n",
        "%cd /content\n",
        "!git clone https://github.com/cerr/CERR.git\n",
        "%cd /content/CERR\n",
        "!git checkout octave_dev\n",
        "%cd .."
      ],
      "execution_count": null,
      "outputs": []
    },
    {
      "cell_type": "markdown",
      "metadata": {
        "id": "wakPx2UrOJdn",
        "colab_type": "text"
      },
      "source": [
        "### Create conda environment for model and its dependencies"
      ]
    },
    {
      "cell_type": "code",
      "metadata": {
        "id": "dJRsK0laKPI5",
        "colab_type": "code",
        "colab": {}
      },
      "source": [
        "%%capture\n",
        "!wget https://repo.anaconda.com/miniconda/Miniconda3-py37_4.8.2-Linux-x86_64.sh\n",
        "!chmod +x Miniconda3-py37_4.8.2-Linux-x86_64.sh\n",
        "!bash ./Miniconda3-py37_4.8.2-Linux-x86_64.sh -b -f -p /usr/local"
      ],
      "execution_count": null,
      "outputs": []
    },
    {
      "cell_type": "code",
      "metadata": {
        "id": "RbyHeYAWLZKF",
        "colab_type": "code",
        "colab": {}
      },
      "source": [
        "%%capture\n",
        "!conda env create -f CT_SwallowingAndChewing_DeepLabV3/environment.yml"
      ],
      "execution_count": null,
      "outputs": []
    },
    {
      "cell_type": "markdown",
      "metadata": {
        "id": "UKk31YIcqnKo",
        "colab_type": "text"
      },
      "source": [
        "### Add packages to Octave for i/o and image processing"
      ]
    },
    {
      "cell_type": "code",
      "metadata": {
        "id": "0nGA67v7GcH9",
        "colab_type": "code",
        "colab": {}
      },
      "source": [
        "%%capture\n",
        "from oct2py import octave\n",
        "\n",
        "octave.eval('pkg load image')\n",
        "octave.eval('pkg load io')\n",
        "octave.eval('pkg load statistics')\n",
        "octave.addpath(octave.genpath('/content/CERR'))"
      ],
      "execution_count": null,
      "outputs": []
    },
    {
      "cell_type": "markdown",
      "metadata": {
        "id": "F_XcME7KOZXB",
        "colab_type": "text"
      },
      "source": [
        "### Load a file and apply segmentation model"
      ]
    },
    {
      "cell_type": "code",
      "metadata": {
        "id": "nEWKsoRp4_zQ",
        "colab_type": "code",
        "colab": {}
      },
      "source": [
        "%%capture\n",
        "\n",
        "sampleData = '/content/CERR/Unit_Testing/data_for_cerr_tests/' + \\\n",
        "              'CERR_plans/head_neck_ex1_20may03.mat.bz2'\n",
        "%octave_push sampleData\n",
        "planC = octave.loadPlanC(sampleData, octave.tempdir())\n",
        "planC = octave.updatePlanFields(planC)\n",
        "planC = octave.quality_assure_planC(sampleData, planC)\n",
        "\n",
        "algorithm = 'CT_ChewingStructures_DeepLabV3';\n",
        "sessionPath = '/content/temp';\n",
        "functionName = '/content/CT_SwallowingAndChewing_DeepLabV3/' + \\\n",
        "               'model_wrapper/CT_ChewingStructures_DeepLabV3/chewing_main.py';\n",
        "condaEnvName = 'swChewEnv'\n",
        "\n",
        "planC = octave.runSegForPlanCInCondaEnv(planC,sessionPath,algorithm, \\\n",
        "                                        functionName,[],condaEnvName);"
      ],
      "execution_count": null,
      "outputs": []
    },
    {
      "cell_type": "markdown",
      "metadata": {
        "id": "-NDZx4Sbk9EU",
        "colab_type": "text"
      },
      "source": [
        "### Display segmentations"
      ]
    },
    {
      "cell_type": "code",
      "metadata": {
        "id": "YeBnHvxzzsnQ",
        "colab_type": "code",
        "colab": {}
      },
      "source": [
        "from oct2py import octave\n",
        "%octave_push planC"
      ],
      "execution_count": null,
      "outputs": []
    },
    {
      "cell_type": "code",
      "metadata": {
        "id": "tPvSN0NSorhu",
        "colab_type": "code",
        "colab": {
          "base_uri": "https://localhost:8080/",
          "height": 469
        },
        "outputId": "b84ba570-a5f1-4ad6-8f7a-fc1d1acf1eb2"
      },
      "source": [
        "%%octave\n",
        "indexS = planC{end};\n",
        "numStructs = length(planC{indexS.structures});\n",
        "structNameC = {planC{indexS.structures}.structureName}\n",
        "count = 0;\n",
        "for strNum = numStructs-3:numStructs\n",
        "    count = count + 1;\n",
        "    mask3M = getStrMask(strNum, planC);\n",
        "    any(mask3M(:))\n",
        "    maskC{count} = mask3M;\n",
        "    strNameC{count} = planC{indexS.structures}(strNum).structureName;\n",
        "end\n",
        "ctOffset = planC{indexS.scan}(1).scanInfo(1).CTOffset;\n",
        "scanArray = single(planC{indexS.scan}(1).scanArray) - ctOffset;\n"
      ],
      "execution_count": null,
      "outputs": [
        {
          "output_type": "display_data",
          "data": {
            "text/plain": [
              "structNameC ="
            ]
          },
          "metadata": {
            "tags": []
          }
        },
        {
          "output_type": "display_data",
          "data": {
            "text/plain": [
              "{"
            ]
          },
          "metadata": {
            "tags": []
          }
        },
        {
          "output_type": "display_data",
          "data": {
            "text/plain": [
              "  [1,1] = Brain"
            ]
          },
          "metadata": {
            "tags": []
          }
        },
        {
          "output_type": "display_data",
          "data": {
            "text/plain": [
              "  [1,2] = Brain Stem"
            ]
          },
          "metadata": {
            "tags": []
          }
        },
        {
          "output_type": "display_data",
          "data": {
            "text/plain": [
              "  [1,3] = Left Orbit"
            ]
          },
          "metadata": {
            "tags": []
          }
        },
        {
          "output_type": "display_data",
          "data": {
            "text/plain": [
              "  [1,4] = Mandible"
            ]
          },
          "metadata": {
            "tags": []
          }
        },
        {
          "output_type": "display_data",
          "data": {
            "text/plain": [
              "  [1,5] = Optic Chiasm"
            ]
          },
          "metadata": {
            "tags": []
          }
        },
        {
          "output_type": "display_data",
          "data": {
            "text/plain": [
              "  [1,6] = Optic Nerves"
            ]
          },
          "metadata": {
            "tags": []
          }
        },
        {
          "output_type": "display_data",
          "data": {
            "text/plain": [
              "  [1,7] = Parotid Gland"
            ]
          },
          "metadata": {
            "tags": []
          }
        },
        {
          "output_type": "display_data",
          "data": {
            "text/plain": [
              "  [1,8] = Right Orbit"
            ]
          },
          "metadata": {
            "tags": []
          }
        },
        {
          "output_type": "display_data",
          "data": {
            "text/plain": [
              "  [1,9] = SKIN"
            ]
          },
          "metadata": {
            "tags": []
          }
        },
        {
          "output_type": "display_data",
          "data": {
            "text/plain": [
              "  [1,10] = Spinal Cord"
            ]
          },
          "metadata": {
            "tags": []
          }
        },
        {
          "output_type": "display_data",
          "data": {
            "text/plain": [
              "  [1,11] = Target 1"
            ]
          },
          "metadata": {
            "tags": []
          }
        },
        {
          "output_type": "display_data",
          "data": {
            "text/plain": [
              "  [1,12] = Target 2"
            ]
          },
          "metadata": {
            "tags": []
          }
        },
        {
          "output_type": "display_data",
          "data": {
            "text/plain": [
              "  [1,13] = Target 3"
            ]
          },
          "metadata": {
            "tags": []
          }
        },
        {
          "output_type": "display_data",
          "data": {
            "text/plain": [
              "  [1,14] = OUTER_1"
            ]
          },
          "metadata": {
            "tags": []
          }
        },
        {
          "output_type": "display_data",
          "data": {
            "text/plain": [
              "  [1,15] = crop_for_chewing_structs"
            ]
          },
          "metadata": {
            "tags": []
          }
        },
        {
          "output_type": "display_data",
          "data": {
            "text/plain": [
              "  [1,16] = Left_masseter"
            ]
          },
          "metadata": {
            "tags": []
          }
        },
        {
          "output_type": "display_data",
          "data": {
            "text/plain": [
              "  [1,17] = Right_masseter"
            ]
          },
          "metadata": {
            "tags": []
          }
        },
        {
          "output_type": "display_data",
          "data": {
            "text/plain": [
              "  [1,18] = Left_medial_pterygoid"
            ]
          },
          "metadata": {
            "tags": []
          }
        },
        {
          "output_type": "display_data",
          "data": {
            "text/plain": [
              "  [1,19] = Right_medial_pterygoid"
            ]
          },
          "metadata": {
            "tags": []
          }
        },
        {
          "output_type": "display_data",
          "data": {
            "text/plain": [
              "}"
            ]
          },
          "metadata": {
            "tags": []
          }
        },
        {
          "output_type": "display_data",
          "data": {
            "text/plain": [
              ""
            ]
          },
          "metadata": {
            "tags": []
          }
        },
        {
          "output_type": "display_data",
          "data": {
            "text/plain": [
              "ans = 1"
            ]
          },
          "metadata": {
            "tags": []
          }
        },
        {
          "output_type": "display_data",
          "data": {
            "text/plain": [
              "ans = 1"
            ]
          },
          "metadata": {
            "tags": []
          }
        },
        {
          "output_type": "display_data",
          "data": {
            "text/plain": [
              "ans = 0"
            ]
          },
          "metadata": {
            "tags": []
          }
        },
        {
          "output_type": "display_data",
          "data": {
            "text/plain": [
              "ans = 0"
            ]
          },
          "metadata": {
            "tags": []
          }
        }
      ]
    },
    {
      "cell_type": "code",
      "metadata": {
        "id": "XvGdHKBcrRSl",
        "colab_type": "code",
        "colab": {}
      },
      "source": [
        "%octave_pull maskC strNameC scanArray"
      ],
      "execution_count": null,
      "outputs": []
    },
    {
      "cell_type": "code",
      "metadata": {
        "id": "py74hcijGu3_",
        "colab_type": "code",
        "colab": {
          "base_uri": "https://localhost:8080/",
          "height": 315,
          "referenced_widgets": [
            "3b3a6fde5c154a8eb82d42216be8b3df",
            "a0a0be867b96440698ade165927e50da",
            "db5d803d636d49c9a5921781119f4c18",
            "14eae6cb8beb4e9593a9a503d3af033c",
            "38f25854c1774d548c712732bd140378"
          ]
        },
        "outputId": "16e8e2c3-4eac-4c45-ecfb-f162e5d3baab"
      },
      "source": [
        "import matplotlib.pyplot as plt\n",
        "import numpy as np\n",
        "from IPython.display import clear_output\n",
        "import ipywidgets as widgets\n",
        "\n",
        "dx, dy = 1, 1\n",
        "\n",
        "x = np.arange(0, 255, dx)\n",
        "y = np.arange(0, 255, dy)\n",
        "extent = np.min(x), np.max(x), np.min(y), np.max(y)\n",
        "\n",
        "clear_output(wait=True)\n",
        "\n",
        "def window_image(image, window_center, window_width):\n",
        "    img_min = window_center - window_width // 2\n",
        "    img_max = window_center + window_width // 2\n",
        "    window_image = image.copy()\n",
        "    window_image[window_image < img_min] = img_min\n",
        "    window_image[window_image > img_max] = img_max\n",
        "    \n",
        "    return window_image\n",
        "\n",
        "def show_axial_slice(slcNum):\n",
        "    clear_output(wait=True)\n",
        "    print('Slice '+str(slcNum))\n",
        "    if 'fig' in locals():\n",
        "        fig.remove()\n",
        "    fig, ax = plt.subplots()\n",
        "    window_center = 45\n",
        "    window_width = 125\n",
        "    windowed_img = window_image(scanArray[:,:,slcNum-1],\n",
        "                                window_center,window_width)\n",
        "    im1 = ax.imshow(windowed_img, cmap=plt.cm.gray, alpha=1,\n",
        "                    interpolation='nearest', extent=extent)\n",
        "    cmaps = [plt.cm.Oranges,plt.cm.Oranges,plt.cm.Blues,plt.cm.Blues]\n",
        "    for maskNum in range(0,4,1):\n",
        "        mask_cmap = cmaps[maskNum]\n",
        "        mask_cmap.set_under('k', alpha=0)\n",
        "        im2 = ax.imshow(maskC[0,maskNum][:,:,slcNum-1], \n",
        "                        cmap=mask_cmap, alpha=.8, extent=extent,\n",
        "                        interpolation='none', clim=[0.5, 1])        \n",
        "    plt.show()\n",
        "\n",
        "slice_slider = widgets.IntSlider(min=1,max=79,step=1)\n",
        "outputSlc = widgets.Output()\n",
        "\n",
        "display(slice_slider, outputSlc)\n",
        "\n",
        "def update_slice(change):\n",
        "    with outputSlc:\n",
        "        show_axial_slice(change['new'])\n",
        "\n",
        "slice_slider.observe(update_slice, names='value')\n"
      ],
      "execution_count": null,
      "outputs": [
        {
          "output_type": "display_data",
          "data": {
            "application/vnd.jupyter.widget-view+json": {
              "model_id": "3b3a6fde5c154a8eb82d42216be8b3df",
              "version_minor": 0,
              "version_major": 2
            },
            "text/plain": [
              "IntSlider(value=1, max=79, min=1)"
            ]
          },
          "metadata": {
            "tags": []
          }
        },
        {
          "output_type": "display_data",
          "data": {
            "application/vnd.jupyter.widget-view+json": {
              "model_id": "14eae6cb8beb4e9593a9a503d3af033c",
              "version_minor": 0,
              "version_major": 2
            },
            "text/plain": [
              "Output()"
            ]
          },
          "metadata": {
            "tags": []
          }
        }
      ]
    }
  ]
}